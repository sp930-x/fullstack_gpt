{
 "cells": [
  {
   "cell_type": "code",
   "execution_count": 6,
   "metadata": {},
   "outputs": [],
   "source": [
    "from langchain.chat_models import ChatOpenAI\n",
    "from langchain.prompts.few_shot import FewShotPromptTemplate\n",
    "from langchain.callbacks import StreamingStdOutCallbackHandler\n",
    "from langchain.prompts.prompt import PromptTemplate\n"
   ]
  },
  {
   "cell_type": "code",
   "execution_count": 7,
   "metadata": {},
   "outputs": [],
   "source": [
    "chat = ChatOpenAI(\n",
    "    temperature=0.1,\n",
    "    streaming=True,\n",
    "    callbacks=[\n",
    "        StreamingStdOutCallbackHandler(),\n",
    "    ],\n",
    ")"
   ]
  },
  {
   "cell_type": "code",
   "execution_count": 3,
   "metadata": {},
   "outputs": [],
   "source": [
    "example1 = {\n",
    "    \"영화 제목\": \"Inception\",\n",
    "    \"감독\": \"Christopher Nolan\",\n",
    "    \"주요 출연진\": [\"Leonardo DiCaprio\", \"Joseph Gordon-Levitt\", \"Ellen Page\"],\n",
    "    \"예산\": \"$160 million\",\n",
    "    \"흥행 수익\": \"$836.8 million\",\n",
    "    \"장르\": [\"Science Fiction\", \"Thriller\"],\n",
    "    \"간단한 시놉시스\": \"꿈을 이용해 정보를 훔치는 도둑이 그의 마지막 미션을 위해 한 팀을 꾸린다.\"\n",
    "}\n",
    "\n",
    "\n",
    "example2 = {\n",
    "    \"영화 제목\": \"Parasite\",\n",
    "    \"감독\": \"Bong Joon-ho\",\n",
    "    \"주요 출연진\": [\"Song Kang-ho\", \"Lee Sun-kyun\", \"Cho Yeo-jeong\"],\n",
    "    \"예산\": \"$11 million\",\n",
    "    \"흥행 수익\": \"$263.1 million\",\n",
    "    \"장르\": [\"Drama\", \"Thriller\"],\n",
    "    \"간단한 시놉시스\": \"가난한 가족이 부잣집에 취업하며 벌어지는 예상치 못한 사건을 다룬다.\"\n",
    "}\n"
   ]
  },
  {
   "cell_type": "code",
   "execution_count": 14,
   "metadata": {},
   "outputs": [],
   "source": [
    "prompt_template = FewShotPromptTemplate(\n",
    "    examples=[example1, example2],\n",
    "    example_prompt=PromptTemplate(\n",
    "        input_variables=[\"영화 제목\", \"감독\", \"주요 출연진\", \"예산\", \"흥행 수익\", \"장르\", \"간단한 시놉시스\"],\n",
    "        template=(\n",
    "            \"영화 제목: {영화 제목}\\n\"\n",
    "            \"감독: {감독}\\n\"\n",
    "            \"주요 출연진: {주요 출연진}\\n\"\n",
    "            \"예산: {예산}\\n\"\n",
    "            \"흥행 수익: {흥행 수익}\\n\"\n",
    "            \"장르: {장르}\\n\"\n",
    "            \"간단한 시놉시스: {간단한 시놉시스}\\n\"\n",
    "        ),\n",
    "    ),\n",
    "    suffix=\"영화 제목을 기반으로 감독, 주요 출연진, 예산, 흥행 수익, 장르, 간단한 시놉시스를 생성하세요.\\n영화 제목: {영화 제목}\",\n",
    "    input_variables=[\"영화 제목\"]\n",
    ")"
   ]
  },
  {
   "cell_type": "code",
   "execution_count": 15,
   "metadata": {},
   "outputs": [],
   "source": [
    "chain = prompt_template | chat"
   ]
  },
  {
   "cell_type": "code",
   "execution_count": 17,
   "metadata": {},
   "outputs": [
    {
     "name": "stdout",
     "output_type": "stream",
     "text": [
      "\n",
      "감독: James Cameron\n",
      "주요 출연진: ['Leonardo DiCaprio', 'Kate Winslet', 'Billy Zane']\n",
      "예산: $200 million\n",
      "흥행 수익: $2.195 billion\n",
      "장르: ['Romance', 'Drama']\n",
      "간단한 시놉시스: 타이타닉호 침몰 사건을 배경으로 한 사랑 이야기를 그린 영화. 생존을 위해 싸우는 젊은 커플의 이야기와 타이타닉호의 비극적인 침몰이 그려진다."
     ]
    },
    {
     "data": {
      "text/plain": [
       "AIMessageChunk(content=\"\\n감독: James Cameron\\n주요 출연진: ['Leonardo DiCaprio', 'Kate Winslet', 'Billy Zane']\\n예산: $200 million\\n흥행 수익: $2.195 billion\\n장르: ['Romance', 'Drama']\\n간단한 시놉시스: 타이타닉호 침몰 사건을 배경으로 한 사랑 이야기를 그린 영화. 생존을 위해 싸우는 젊은 커플의 이야기와 타이타닉호의 비극적인 침몰이 그려진다.\")"
      ]
     },
     "execution_count": 17,
     "metadata": {},
     "output_type": "execute_result"
    }
   ],
   "source": [
    "chain.invoke({\"영화 제목\": \"Titanic\"})"
   ]
  }
 ],
 "metadata": {
  "kernelspec": {
   "display_name": "gpt_env",
   "language": "python",
   "name": "python3"
  },
  "language_info": {
   "codemirror_mode": {
    "name": "ipython",
    "version": 3
   },
   "file_extension": ".py",
   "mimetype": "text/x-python",
   "name": "python",
   "nbconvert_exporter": "python",
   "pygments_lexer": "ipython3",
   "version": "3.11.9"
  }
 },
 "nbformat": 4,
 "nbformat_minor": 2
}
